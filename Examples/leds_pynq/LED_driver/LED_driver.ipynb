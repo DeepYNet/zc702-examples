{
 "cells": [
  {
   "cell_type": "markdown",
   "metadata": {},
   "source": [
    "## LED Driver Pynq Custom Overlay\n",
    "\n",
    "- design_1_wrapper.bit Contains a Adder IP on the AXI bus\n",
    "- It adds A (8 Bit) + B (8 Bit) and sends the 8-bit C output on LEDs on the Board.\n",
    "- The values of A and B are send to the IP via AXI bus using this python script.\n",
    "- Basic Demo keeps A as 0 and increment B from 0 to 255"
   ]
  },
  {
   "cell_type": "code",
   "execution_count": 5,
   "metadata": {},
   "outputs": [],
   "source": [
    "from pynq import Overlay\n",
    "import time\n",
    "overlay = Overlay('/home/xilinx/jupyter_notebooks/LED_driver/design_1_wrapper.bit')"
   ]
  },
  {
   "cell_type": "code",
   "execution_count": 6,
   "metadata": {},
   "outputs": [
    {
     "name": "stdout",
     "output_type": "stream",
     "text": [
      "axi_gpio_0\n",
      "processing_system7_0\n"
     ]
    }
   ],
   "source": [
    "for i in overlay.ip_dict:\n",
    "    print(i)"
   ]
  },
  {
   "cell_type": "code",
   "execution_count": 7,
   "metadata": {},
   "outputs": [],
   "source": [
    "add_ip = overlay.axi_gpio_0\n",
    "add_ip?"
   ]
  },
  {
   "cell_type": "code",
   "execution_count": null,
   "metadata": {},
   "outputs": [],
   "source": [
    "while(1):\n",
    "    add_ip.write(0x10, 0)\n",
    "    for i in range(0,256):\n",
    "        add_ip.write(0x18, i)\n",
    "        time.sleep(0.1)"
   ]
  }
 ],
 "metadata": {
  "kernelspec": {
   "display_name": "Python 3",
   "language": "python",
   "name": "python3"
  },
  "language_info": {
   "codemirror_mode": {
    "name": "ipython",
    "version": 3
   },
   "file_extension": ".py",
   "mimetype": "text/x-python",
   "name": "python",
   "nbconvert_exporter": "python",
   "pygments_lexer": "ipython3",
   "version": "3.6.5"
  }
 },
 "nbformat": 4,
 "nbformat_minor": 2
}
